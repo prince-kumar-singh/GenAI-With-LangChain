{
  "cells": [
    {
      "cell_type": "code",
      "execution_count": null,
      "metadata": {
        "id": "WeWR1wl3dBay"
      },
      "outputs": [],
      "source": [
        "import os\n",
        "os.environ[\"GOOGLE_API_KEY\"] = \"YOUR_API_KEY\""
      ]
    },
    {
      "cell_type": "code",
      "execution_count": null,
      "metadata": {
        "colab": {
          "base_uri": "https://localhost:8080/"
        },
        "id": "t_auBTtxdIqp",
        "outputId": "f3b1bb00-eef6-4e2b-a692-0ed20ce4cd45"
      },
      "outputs": [],
      "source": [
        "!pip install -q langchain_google_genai= langchain-community langchain-core requests duckduckgo-search ddgs google-ai-generativelanguage"
      ]
    },
    {
      "cell_type": "code",
      "execution_count": 7,
      "metadata": {
        "colab": {
          "base_uri": "https://localhost:8080/",
          "height": 494
        },
        "id": "JRG8AtkSdLM3",
        "outputId": "312eb7cb-104e-474a-a519-fdc8be36f81d"
      },
      "outputs": [],
      "source": [
        "from langchain_google_genai import ChatGoogleGenerativeAI\n",
        "from langchain_core.tools import tool\n",
        "import requests"
      ]
    },
    {
      "cell_type": "code",
      "execution_count": 9,
      "metadata": {
        "id": "-F_IXJLikwHO"
      },
      "outputs": [],
      "source": [
        "from langchain_community.tools import DuckDuckGoSearchRun\n",
        "\n",
        "search_tool = DuckDuckGoSearchRun()"
      ]
    },
    {
      "cell_type": "code",
      "execution_count": 11,
      "metadata": {
        "id": "R2GZeN89ytgo"
      },
      "outputs": [],
      "source": [
        "@tool\n",
        "def get_weather_data(city: str) -> str:\n",
        "  \"\"\"\n",
        "  This function fetches the current weather data for a given city\n",
        "  \"\"\"\n",
        "  url = f'https://api.weatherstack.com/current?access_key=4d1d8ae207a8c845a52df8a67bf3623e&query={city}'\n",
        "\n",
        "  response = requests.get(url)\n",
        "\n",
        "  return response.json()"
      ]
    },
    {
      "cell_type": "code",
      "execution_count": 12,
      "metadata": {
        "id": "LSBEXlq3llWG"
      },
      "outputs": [],
      "source": [
        "llm = ChatGoogleGenerativeAI(model='gemini-2.0-flash',temperature=0)"
      ]
    },
    {
      "cell_type": "code",
      "execution_count": 13,
      "metadata": {
        "id": "QpkrG8nAlysd"
      },
      "outputs": [],
      "source": [
        "from langchain.agents import create_react_agent, AgentExecutor\n",
        "from langchain import hub"
      ]
    },
    {
      "cell_type": "code",
      "execution_count": 14,
      "metadata": {
        "id": "upsYmEP97Fk0"
      },
      "outputs": [],
      "source": [
        "# Step 2: Pull the ReAct prompt from LangChain Hub\n",
        "prompt = hub.pull(\"hwchase17/react\")  # pulls the standard ReAct agent prompt\n"
      ]
    },
    {
      "cell_type": "code",
      "execution_count": 15,
      "metadata": {
        "id": "46OsNvahYoXO"
      },
      "outputs": [],
      "source": [
        "# Step 3: Create the ReAct agent manually with the pulled prompt\n",
        "agent = create_react_agent(\n",
        "    llm=llm,\n",
        "    tools=[search_tool, get_weather_data],\n",
        "    prompt=prompt\n",
        ")"
      ]
    },
    {
      "cell_type": "code",
      "execution_count": 16,
      "metadata": {
        "id": "n_eQWa9qYqVN"
      },
      "outputs": [],
      "source": [
        "# Step 4: Wrap it with AgentExecutor\n",
        "agent_executor = AgentExecutor(\n",
        "    agent=agent,\n",
        "    tools=[search_tool, get_weather_data],\n",
        "    verbose=True\n",
        ")"
      ]
    },
    {
      "cell_type": "code",
      "execution_count": 17,
      "metadata": {
        "id": "4731_FTsYsJT"
      },
      "outputs": [
        {
          "name": "stdout",
          "output_type": "stream",
          "text": [
            "\n",
            "\n",
            "\u001b[1m> Entering new AgentExecutor chain...\u001b[0m\n",
            "\u001b[32;1m\u001b[1;3mI need to first find the capital of Madhya Pradesh, and then use that information to find the current weather conditions in that city.\n",
            "Action: duckduckgo_search\n",
            "Action Input: \"capital of Madhya Pradesh\"\u001b[0m\u001b[36;1m\u001b[1;3m2 weeks ago - Its capital is Bhopal . Other major cities includes Indore, Gwalior, Ujjain, Jabalpur and Sagar. Madhya Pradesh is the second largest Indian state by area and the fifth largest state by population with over 72 million residents. It borders the states of Rajasthan to the northwest, Uttar Pradesh ... September 12, 2025 - Bhopal (Hindi: Bhōpāl, pronounced [bʱoːpaːlᵊ] ⓘ) is the capital city of the Indian state of Madhya Pradesh and the administrative headquarters of both Bhopal district and Bhopal division. It is known as the City of Lakes, due to presence of various natural and artificial lakes near ... 1 week ago - Indore (/ɪnˈdɔːr/ ⓘ; ISO: Indaura, Hindi: [ɪn̪d̪ɔːr]) is the largest and most populous city in the Indian state of Madhya Pradesh. The commercial capital of the state, it has been declared as the cleanest city in India 8 years in a row. It is also considered the largest education ... 4 days ago - मध्य प्रदेश (अंग्रेज़ी: Madhya Pradesh) भारत का एक राज्य है। इसकी आधिकारिक राजधानी भोपाल है। मध्य प्रदेश 1 नवंबर 2000 तक क्षे... 3 weeks ago - Like other states in India, the head of state of Madhya Pradesh is the governor, appointed by the president of India on the advice of the Central government. The governor's post is largely ceremonial. The chief minister is the head of government and is vested with most of the executive powers and financial powers. Bhopal is the capital ...\u001b[0m\u001b[32;1m\u001b[1;3mI now know that the capital of Madhya Pradesh is Bhopal. Now I need to find the current weather conditions in Bhopal.\n",
            "Action: get_weather_data\n",
            "Action Input: Bhopal\u001b[0m\u001b[33;1m\u001b[1;3m{'success': False, 'error': {'code': 104, 'type': 'usage_limit_reached', 'info': 'Your monthly usage limit has been reached. Please upgrade your Subscription Plan.'}}\u001b[0m\u001b[32;1m\u001b[1;3mI was unable to retrieve the weather data due to a usage limit. However, I know the capital of Madhya Pradesh.\n",
            "Final Answer: The capital of Madhya Pradesh is Bhopal. I am unable to retrieve the current weather conditions for Bhopal at this time.\u001b[0m\n",
            "\n",
            "\u001b[1m> Finished chain.\u001b[0m\n",
            "{'input': \"Find the capital of Madhya Pradesh, then find it's current weather condition\", 'output': 'The capital of Madhya Pradesh is Bhopal. I am unable to retrieve the current weather conditions for Bhopal at this time.'}\n"
          ]
        }
      ],
      "source": [
        "# Step 5: Invoke\n",
        "response = agent_executor.invoke({\"input\": \"Find the capital of Madhya Pradesh, then find it's current weather condition\"})\n",
        "print(response)"
      ]
    },
    {
      "cell_type": "code",
      "execution_count": 18,
      "metadata": {
        "id": "dISl6fzqZKfU"
      },
      "outputs": [
        {
          "data": {
            "text/plain": [
              "'The capital of Madhya Pradesh is Bhopal. I am unable to retrieve the current weather conditions for Bhopal at this time.'"
            ]
          },
          "execution_count": 18,
          "metadata": {},
          "output_type": "execute_result"
        }
      ],
      "source": [
        "response['output']"
      ]
    },
    {
      "cell_type": "code",
      "execution_count": null,
      "metadata": {
        "id": "QQcK6ADRB6AZ"
      },
      "outputs": [],
      "source": []
    }
  ],
  "metadata": {
    "colab": {
      "provenance": []
    },
    "kernelspec": {
      "display_name": "venv",
      "language": "python",
      "name": "python3"
    },
    "language_info": {
      "codemirror_mode": {
        "name": "ipython",
        "version": 3
      },
      "file_extension": ".py",
      "mimetype": "text/x-python",
      "name": "python",
      "nbconvert_exporter": "python",
      "pygments_lexer": "ipython3",
      "version": "3.13.0"
    }
  },
  "nbformat": 4,
  "nbformat_minor": 0
}
